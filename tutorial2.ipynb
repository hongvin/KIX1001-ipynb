{
 "cells": [
  {
   "cell_type": "markdown",
   "id": "e5bbc725",
   "metadata": {},
   "source": [
    "# Tutorial 2\n"
   ]
  },
  {
   "cell_type": "markdown",
   "id": "06e9522e",
   "metadata": {},
   "source": [
    "## Topics Covered\n",
    "\n",
    "This tutorial covers the following topics using Python and SymPy:\n",
    "- **Partial Derivatives**: Using limit definition and rules.\n",
    "- **Chain Rule**: For composite functions.\n",
    "- **Implicit Differentiation**: For multivariable functions.\n",
    "- **Jacobians**: For transformations."
   ]
  },
  {
   "cell_type": "markdown",
   "id": "62ea455f",
   "metadata": {},
   "source": [
    "## Introduction\n",
    "\n",
    "Sympy: SymPy is a Python library for symbolic mathematics. We will use this library to solve all the tutorials."
   ]
  },
  {
   "cell_type": "code",
   "execution_count": 90,
   "id": "1026496f",
   "metadata": {},
   "outputs": [],
   "source": [
    "import sympy as sy\n",
    "from sympy.abc import x, y, z, s, t, r, theta, u, v # variables\n",
    "from sympy.solvers import solve                   # Solving equations\n",
    "from sympy import sqrt,tan,sin,cos,sec,pi,root,ln, E\n",
    "from sympy import log,exp,atan,asinh,atanh,asin   # Import all required math function\n",
    "from sympy import diff, idiff, Matrix                     # Solving differentiation\n",
    "sy.init_printing(use_latex=True)                  # Show it in natural display"
   ]
  },
  {
   "cell_type": "markdown",
   "id": "5d061a99",
   "metadata": {},
   "source": [
    "### Question 1\n",
    "Find the partial derivative $\\displaystyle\\left(\\frac{\\partial f}{\\partial y}\\right)$ and $\\displaystyle\\left(\\frac{\\partial f}{\\partial x}\\right)$ of these functions using the limit definition\n",
    "\n",
    "a. $f(x, y)=x^{2} y+2 x+y^{3}$ "
   ]
  },
  {
   "cell_type": "code",
   "execution_count": 91,
   "id": "04e90184",
   "metadata": {},
   "outputs": [
    {
     "data": {
      "image/png": "[encoded data removed]",
      "text/latex": [
       "$\\displaystyle 2 x y + 2$"
      ],
      "text/plain": [
       "2⋅x⋅y + 2"
      ]
     },
     "metadata": {},
     "output_type": "display_data"
    },
    {
     "data": {
      "image/png": "[encoded data removed]",
      "text/latex": [
       "$\\displaystyle x^{2} + 3 y^{2}$"
      ],
      "text/plain": [
       " 2      2\n",
       "x  + 3⋅y "
      ]
     },
     "metadata": {},
     "output_type": "display_data"
    }
   ],
   "source": [
    "f = x**2*y + 2*x + y**3\n",
    "display(diff(f, x))\n",
    "display(diff(f, y))"
   ]
  },
  {
   "cell_type": "markdown",
   "id": "ebb0f461",
   "metadata": {},
   "source": [
    "b. $f(x, y)=x^{2}-4 x y+y^{2}$ "
   ]
  },
  {
   "cell_type": "code",
   "execution_count": 92,
   "id": "c3becb3a",
   "metadata": {},
   "outputs": [
    {
     "data": {
      "image/png": "[encoded data removed]",
      "text/latex": [
       "$\\displaystyle 2 x - 4 y$"
      ],
      "text/plain": [
       "2⋅x - 4⋅y"
      ]
     },
     "metadata": {},
     "output_type": "display_data"
    },
    {
     "data": {
      "image/png": "[encoded data removed]",
      "text/latex": [
       "$\\displaystyle - 4 x + 2 y$"
      ],
      "text/plain": [
       "-4⋅x + 2⋅y"
      ]
     },
     "metadata": {},
     "output_type": "display_data"
    }
   ],
   "source": [
    "f = x**2 - 4*x*y + y**2\n",
    "display(diff(f, x))\n",
    "display(diff(f, y))"
   ]
  },
  {
   "cell_type": "markdown",
   "id": "8065d124",
   "metadata": {},
   "source": [
    "c. $f(x, y)=2 x^{3}+3 x y-y^{2}$ "
   ]
  },
  {
   "cell_type": "code",
   "execution_count": 93,
   "id": "bec0fbd4",
   "metadata": {},
   "outputs": [
    {
     "data": {
      "image/png": "[encoded data removed]",
      "text/latex": [
       "$\\displaystyle 6 x^{2} + 3 y$"
      ],
      "text/plain": [
       "   2      \n",
       "6⋅x  + 3⋅y"
      ]
     },
     "metadata": {},
     "output_type": "display_data"
    },
    {
     "data": {
      "image/png": "[encoded data removed]",
      "text/latex": [
       "$\\displaystyle 3 x - 2 y$"
      ],
      "text/plain": [
       "3⋅x - 2⋅y"
      ]
     },
     "metadata": {},
     "output_type": "display_data"
    }
   ],
   "source": [
    "f = 2*x**3 + 3*x*y - y**2\n",
    "display(diff(f, x))\n",
    "display(diff(f, y))"
   ]
  },
  {
   "cell_type": "markdown",
   "id": "b5b65760",
   "metadata": {},
   "source": [
    "### Question 2\n",
    "Determine all the first and second order partial derivatives of the function\n",
    "\n",
    "a. $f(x, y)=x^{2} y^{3}+3 y+x$ "
   ]
  },
  {
   "cell_type": "code",
   "execution_count": 94,
   "id": "087cf7ed",
   "metadata": {},
   "outputs": [
    {
     "data": {
      "image/png": "[encoded data removed]",
      "text/latex": [
       "$\\displaystyle 2 x y^{3} + 1$"
      ],
      "text/plain": [
       "     3    \n",
       "2⋅x⋅y  + 1"
      ]
     },
     "metadata": {},
     "output_type": "display_data"
    },
    {
     "data": {
      "image/png": "[encoded data removed]",
      "text/latex": [
       "$\\displaystyle 3 x^{2} y^{2} + 3$"
      ],
      "text/plain": [
       "   2  2    \n",
       "3⋅x ⋅y  + 3"
      ]
     },
     "metadata": {},
     "output_type": "display_data"
    },
    {
     "data": {
      "image/png": "[encoded data removed]",
      "text/latex": [
       "$\\displaystyle 2 y^{3}$"
      ],
      "text/plain": [
       "   3\n",
       "2⋅y "
      ]
     },
     "metadata": {},
     "output_type": "display_data"
    },
    {
     "data": {
      "image/png": "[encoded data removed]",
      "text/latex": [
       "$\\displaystyle 6 x y^{2}$"
      ],
      "text/plain": [
       "     2\n",
       "6⋅x⋅y "
      ]
     },
     "metadata": {},
     "output_type": "display_data"
    },
    {
     "data": {
      "image/png": "[encoded data removed]",
      "text/latex": [
       "$\\displaystyle 6 x y^{2}$"
      ],
      "text/plain": [
       "     2\n",
       "6⋅x⋅y "
      ]
     },
     "metadata": {},
     "output_type": "display_data"
    },
    {
     "data": {
      "image/png": "[encoded data removed]",
      "text/latex": [
       "$\\displaystyle 6 x^{2} y$"
      ],
      "text/plain": [
       "   2  \n",
       "6⋅x ⋅y"
      ]
     },
     "metadata": {},
     "output_type": "display_data"
    }
   ],
   "source": [
    "f = x**2*y**3 + 3*y + x\n",
    "display(diff(f, x))\n",
    "display(diff(f, y))\n",
    "display(diff(f, x, x))\n",
    "display(diff(f, x, y))\n",
    "display(diff(f, y, x))\n",
    "display(diff(f, y, y))"
   ]
  },
  {
   "cell_type": "markdown",
   "id": "744a2ed6",
   "metadata": {},
   "source": [
    "b. $f(x, y)=x^{4} \\sin 3 y$ "
   ]
  },
  {
   "cell_type": "code",
   "execution_count": 95,
   "id": "4dd7c0f5",
   "metadata": {},
   "outputs": [
    {
     "data": {
      "image/png": "[encoded data removed]",
      "text/latex": [
       "$\\displaystyle 4 x^{3} \\sin{\\left(3 y \\right)}$"
      ],
      "text/plain": [
       "   3         \n",
       "4⋅x ⋅sin(3⋅y)"
      ]
     },
     "metadata": {},
     "output_type": "display_data"
    },
    {
     "data": {
      "image/png": "[encoded data removed]",
      "text/latex": [
       "$\\displaystyle 3 x^{4} \\cos{\\left(3 y \\right)}$"
      ],
      "text/plain": [
       "   4         \n",
       "3⋅x ⋅cos(3⋅y)"
      ]
     },
     "metadata": {},
     "output_type": "display_data"
    },
    {
     "data": {
      "image/png": "[encoded data removed]",
      "text/latex": [
       "$\\displaystyle 12 x^{2} \\sin{\\left(3 y \\right)}$"
      ],
      "text/plain": [
       "    2         \n",
       "12⋅x ⋅sin(3⋅y)"
      ]
     },
     "metadata": {},
     "output_type": "display_data"
    },
    {
     "data": {
      "image/png": "[encoded data removed]",
      "text/latex": [
       "$\\displaystyle 12 x^{3} \\cos{\\left(3 y \\right)}$"
      ],
      "text/plain": [
       "    3         \n",
       "12⋅x ⋅cos(3⋅y)"
      ]
     },
     "metadata": {},
     "output_type": "display_data"
    },
    {
     "data": {
      "image/png": "[encoded data removed]",
      "text/latex": [
       "$\\displaystyle 12 x^{3} \\cos{\\left(3 y \\right)}$"
      ],
      "text/plain": [
       "    3         \n",
       "12⋅x ⋅cos(3⋅y)"
      ]
     },
     "metadata": {},
     "output_type": "display_data"
    },
    {
     "data": {
      "image/png": "[encoded data removed]",
      "text/latex": [
       "$\\displaystyle - 9 x^{4} \\sin{\\left(3 y \\right)}$"
      ],
      "text/plain": [
       "    4         \n",
       "-9⋅x ⋅sin(3⋅y)"
      ]
     },
     "metadata": {},
     "output_type": "display_data"
    }
   ],
   "source": [
    "f = x**4*sin(3*y)\n",
    "display(diff(f, x))\n",
    "display(diff(f, y))\n",
    "display(diff(f, x, x))\n",
    "display(diff(f, x, y))\n",
    "display(diff(f, y, x))\n",
    "display(diff(f, y, y))"
   ]
  },
  {
   "cell_type": "markdown",
   "id": "dd17b02a",
   "metadata": {},
   "source": [
    "c. $f(x, y)=x^{2} y+\\ln \\left(y^{2}-x\\right)$ "
   ]
  },
  {
   "cell_type": "code",
   "execution_count": 96,
   "id": "c87803d2",
   "metadata": {},
   "outputs": [
    {
     "data": {
      "image/png": "[encoded data removed]",
      "text/latex": [
       "$\\displaystyle 2 x y - \\frac{1}{- x + y^{2}}$"
      ],
      "text/plain": [
       "           1   \n",
       "2⋅x⋅y - ───────\n",
       "              2\n",
       "        -x + y "
      ]
     },
     "metadata": {},
     "output_type": "display_data"
    },
    {
     "data": {
      "image/png": "[encoded data removed]",
      "text/latex": [
       "$\\displaystyle x^{2} + \\frac{2 y}{- x + y^{2}}$"
      ],
      "text/plain": [
       " 2     2⋅y  \n",
       "x  + ───────\n",
       "           2\n",
       "     -x + y "
      ]
     },
     "metadata": {},
     "output_type": "display_data"
    },
    {
     "data": {
      "image/png": "[encoded data removed]",
      "text/latex": [
       "$\\displaystyle 2 y - \\frac{1}{\\left(x - y^{2}\\right)^{2}}$"
      ],
      "text/plain": [
       "          1    \n",
       "2⋅y - ─────────\n",
       "              2\n",
       "      ⎛     2⎞ \n",
       "      ⎝x - y ⎠ "
      ]
     },
     "metadata": {},
     "output_type": "display_data"
    },
    {
     "data": {
      "image/png": "[encoded data removed]",
      "text/latex": [
       "$\\displaystyle 2 \\left(x + \\frac{y}{\\left(x - y^{2}\\right)^{2}}\\right)$"
      ],
      "text/plain": [
       "  ⎛        y    ⎞\n",
       "2⋅⎜x + ─────────⎟\n",
       "  ⎜            2⎟\n",
       "  ⎜    ⎛     2⎞ ⎟\n",
       "  ⎝    ⎝x - y ⎠ ⎠"
      ]
     },
     "metadata": {},
     "output_type": "display_data"
    },
    {
     "data": {
      "image/png": "[encoded data removed]",
      "text/latex": [
       "$\\displaystyle 2 \\left(x + \\frac{y}{\\left(x - y^{2}\\right)^{2}}\\right)$"
      ],
      "text/plain": [
       "  ⎛        y    ⎞\n",
       "2⋅⎜x + ─────────⎟\n",
       "  ⎜            2⎟\n",
       "  ⎜    ⎛     2⎞ ⎟\n",
       "  ⎝    ⎝x - y ⎠ ⎠"
      ]
     },
     "metadata": {},
     "output_type": "display_data"
    },
    {
     "data": {
      "image/png": "[encoded data removed]",
      "text/latex": [
       "$\\displaystyle - \\frac{2 \\left(\\frac{2 y^{2}}{x - y^{2}} + 1\\right)}{x - y^{2}}$"
      ],
      "text/plain": [
       "   ⎛    2     ⎞ \n",
       "   ⎜ 2⋅y      ⎟ \n",
       "-2⋅⎜────── + 1⎟ \n",
       "   ⎜     2    ⎟ \n",
       "   ⎝x - y     ⎠ \n",
       "────────────────\n",
       "          2     \n",
       "     x - y      "
      ]
     },
     "metadata": {},
     "output_type": "display_data"
    }
   ],
   "source": [
    "f = x**2*y + ln(y**2 - x)\n",
    "display(diff(f, x))\n",
    "display(diff(f, y))\n",
    "display(diff(f, x, x))\n",
    "display(diff(f, x, y))\n",
    "display(diff(f, y, x))\n",
    "display(diff(f, y, y))"
   ]
  },
  {
   "cell_type": "markdown",
   "id": "bb6f46fe",
   "metadata": {},
   "source": [
    "d. $f(x, y)=e^{x y}(2 x-y)$ "
   ]
  },
  {
   "cell_type": "code",
   "execution_count": 97,
   "id": "42c61b84",
   "metadata": {},
   "outputs": [
    {
     "data": {
      "image/png": "[encoded data removed]",
      "text/latex": [
       "$\\displaystyle y \\left(2 x - y\\right) e^{x y} + 2 e^{x y}$"
      ],
      "text/plain": [
       "             x⋅y      x⋅y\n",
       "y⋅(2⋅x - y)⋅ℯ    + 2⋅ℯ   "
      ]
     },
     "metadata": {},
     "output_type": "display_data"
    },
    {
     "data": {
      "image/png": "[encoded data removed]",
      "text/latex": [
       "$\\displaystyle x \\left(2 x - y\\right) e^{x y} - e^{x y}$"
      ],
      "text/plain": [
       "             x⋅y    x⋅y\n",
       "x⋅(2⋅x - y)⋅ℯ    - ℯ   "
      ]
     },
     "metadata": {},
     "output_type": "display_data"
    },
    {
     "data": {
      "image/png": "[encoded data removed]",
      "text/latex": [
       "$\\displaystyle y \\left(y \\left(2 x - y\\right) + 4\\right) e^{x y}$"
      ],
      "text/plain": [
       "                     x⋅y\n",
       "y⋅(y⋅(2⋅x - y) + 4)⋅ℯ   "
      ]
     },
     "metadata": {},
     "output_type": "display_data"
    },
    {
     "data": {
      "image/png": "[encoded data removed]",
      "text/latex": [
       "$\\displaystyle \\left(x y \\left(2 x - y\\right) + 4 x - 2 y\\right) e^{x y}$"
      ],
      "text/plain": [
       "                             x⋅y\n",
       "(x⋅y⋅(2⋅x - y) + 4⋅x - 2⋅y)⋅ℯ   "
      ]
     },
     "metadata": {},
     "output_type": "display_data"
    },
    {
     "data": {
      "image/png": "[encoded data removed]",
      "text/latex": [
       "$\\displaystyle \\left(x y \\left(2 x - y\\right) + 4 x - 2 y\\right) e^{x y}$"
      ],
      "text/plain": [
       "                             x⋅y\n",
       "(x⋅y⋅(2⋅x - y) + 4⋅x - 2⋅y)⋅ℯ   "
      ]
     },
     "metadata": {},
     "output_type": "display_data"
    },
    {
     "data": {
      "image/png": "[encoded data removed]",
      "text/latex": [
       "$\\displaystyle x \\left(x \\left(2 x - y\\right) - 2\\right) e^{x y}$"
      ],
      "text/plain": [
       "                     x⋅y\n",
       "x⋅(x⋅(2⋅x - y) - 2)⋅ℯ   "
      ]
     },
     "metadata": {},
     "output_type": "display_data"
    }
   ],
   "source": [
    "f = exp(x*y)*(2*x - y)\n",
    "display(diff(f, x))\n",
    "display(diff(f, y))\n",
    "display(diff(f, x, x))\n",
    "display(diff(f, x, y))\n",
    "display(diff(f, y, x))\n",
    "display(diff(f, y, y))"
   ]
  },
  {
   "cell_type": "markdown",
   "id": "932f3cfc",
   "metadata": {},
   "source": [
    "### Question 3\n",
    "Find both partial derivatives for each of the following two variables functions\n",
    "\n",
    "a. $g(x, y)=y e^{x+y}$"
   ]
  },
  {
   "cell_type": "code",
   "execution_count": 98,
   "id": "8f1411c0",
   "metadata": {},
   "outputs": [
    {
     "data": {
      "image/png": "[encoded data removed]",
      "text/latex": [
       "$\\displaystyle y e^{x + y}$"
      ],
      "text/plain": [
       "   x + y\n",
       "y⋅ℯ     "
      ]
     },
     "metadata": {},
     "output_type": "display_data"
    },
    {
     "data": {
      "image/png": "[encoded data removed]",
      "text/latex": [
       "$\\displaystyle y e^{x + y} + e^{x + y}$"
      ],
      "text/plain": [
       "   x + y    x + y\n",
       "y⋅ℯ      + ℯ     "
      ]
     },
     "metadata": {},
     "output_type": "display_data"
    }
   ],
   "source": [
    "g = y*exp(x+y)\n",
    "display(diff(g, x))\n",
    "display(diff(g, y))"
   ]
  },
  {
   "cell_type": "markdown",
   "id": "3004b75d",
   "metadata": {},
   "source": [
    "b. $h(x, y)=x \\sin y-y \\cos x$"
   ]
  },
  {
   "cell_type": "code",
   "execution_count": 99,
   "id": "ed47ce39",
   "metadata": {},
   "outputs": [
    {
     "data": {
      "image/png": "[encoded data removed]",
      "text/latex": [
       "$\\displaystyle y \\sin{\\left(x \\right)} + \\sin{\\left(y \\right)}$"
      ],
      "text/plain": [
       "y⋅sin(x) + sin(y)"
      ]
     },
     "metadata": {},
     "output_type": "display_data"
    },
    {
     "data": {
      "image/png": "[encoded data removed]",
      "text/latex": [
       "$\\displaystyle x \\cos{\\left(y \\right)} - \\cos{\\left(x \\right)}$"
      ],
      "text/plain": [
       "x⋅cos(y) - cos(x)"
      ]
     },
     "metadata": {},
     "output_type": "display_data"
    }
   ],
   "source": [
    "h = x*sin(y) - y*cos(x)\n",
    "display(diff(h, x))\n",
    "display(diff(h, y))"
   ]
  },
  {
   "cell_type": "markdown",
   "id": "20ae33df",
   "metadata": {},
   "source": [
    "c. $p(x, y)=x^{y}+y^{2}$"
   ]
  },
  {
   "cell_type": "code",
   "execution_count": 100,
   "id": "d6a39608",
   "metadata": {},
   "outputs": [
    {
     "data": {
      "image/png": "[encoded data removed]",
      "text/latex": [
       "$\\displaystyle \\frac{x^{y} y}{x}$"
      ],
      "text/plain": [
       " y  \n",
       "x ⋅y\n",
       "────\n",
       " x  "
      ]
     },
     "metadata": {},
     "output_type": "display_data"
    },
    {
     "data": {
      "image/png": "[encoded data removed]",
      "text/latex": [
       "$\\displaystyle x^{y} \\log{\\left(x \\right)} + 2 y$"
      ],
      "text/plain": [
       " y             \n",
       "x ⋅log(x) + 2⋅y"
      ]
     },
     "metadata": {},
     "output_type": "display_data"
    }
   ],
   "source": [
    "p = x**y + y**2\n",
    "display(diff(p, x))\n",
    "display(diff(p, y))"
   ]
  },
  {
   "cell_type": "markdown",
   "id": "5507932a",
   "metadata": {},
   "source": [
    "d. $U(x, y)=\\frac{9 y^{3}}{x-y}$"
   ]
  },
  {
   "cell_type": "code",
   "execution_count": 101,
   "id": "1443e267",
   "metadata": {},
   "outputs": [
    {
     "data": {
      "image/png": "[encoded data removed]",
      "text/latex": [
       "$\\displaystyle - \\frac{9 y^{3}}{\\left(x - y\\right)^{2}}$"
      ],
      "text/plain": [
       "     3  \n",
       " -9⋅y   \n",
       "────────\n",
       "       2\n",
       "(x - y) "
      ]
     },
     "metadata": {},
     "output_type": "display_data"
    },
    {
     "data": {
      "image/png": "[encoded data removed]",
      "text/latex": [
       "$\\displaystyle \\frac{9 y^{3}}{\\left(x - y\\right)^{2}} + \\frac{27 y^{2}}{x - y}$"
      ],
      "text/plain": [
       "     3         2\n",
       "  9⋅y      27⋅y \n",
       "──────── + ─────\n",
       "       2   x - y\n",
       "(x - y)         "
      ]
     },
     "metadata": {},
     "output_type": "display_data"
    }
   ],
   "source": [
    "U = (9*y**3)/(x-y)\n",
    "display(diff(U, x))\n",
    "display(diff(U, y))"
   ]
  },
  {
   "cell_type": "markdown",
   "id": "0a4175fb",
   "metadata": {},
   "source": [
    "### Question 4\n",
    "For $f(x, y, z)$, use the implicit function theorem to find $d y / d x$ and $d y / d z$\n",
    "\n",
    "a. $f(x, y, z)=x^{2} y^{3}+z^{2}+x y z$"
   ]
  },
  {
   "cell_type": "code",
   "execution_count": 102,
   "id": "bee00ff9",
   "metadata": {},
   "outputs": [
    {
     "data": {
      "image/png": "[encoded data removed]",
      "text/latex": [
       "$\\displaystyle \\frac{- 2 x y^{3} - y z}{3 x^{2} y^{2} + x z}$"
      ],
      "text/plain": [
       "       3      \n",
       "- 2⋅x⋅y  - y⋅z\n",
       "──────────────\n",
       "   2  2       \n",
       "3⋅x ⋅y  + x⋅z "
      ]
     },
     "metadata": {},
     "output_type": "display_data"
    },
    {
     "data": {
      "image/png": "[encoded data removed]",
      "text/latex": [
       "$\\displaystyle \\frac{- x y - 2 z}{3 x^{2} y^{2} + x z}$"
      ],
      "text/plain": [
       " -x⋅y - 2⋅z  \n",
       "─────────────\n",
       "   2  2      \n",
       "3⋅x ⋅y  + x⋅z"
      ]
     },
     "metadata": {},
     "output_type": "display_data"
    }
   ],
   "source": [
    "f = x**2*y**3 + z**2 + x*y*z\n",
    "dydx = -diff(f, x) / diff(f, y)\n",
    "dydz = -diff(f, z) / diff(f, y)\n",
    "display(dydx)\n",
    "display(dydz)"
   ]
  },
  {
   "cell_type": "markdown",
   "id": "eb48aa4f",
   "metadata": {},
   "source": [
    "b. $f(x, y, z)=x^{3} z^{2}+y^{3}+4 x y z$"
   ]
  },
  {
   "cell_type": "code",
   "execution_count": 103,
   "id": "c4e11463",
   "metadata": {},
   "outputs": [
    {
     "data": {
      "image/png": "[encoded data removed]",
      "text/latex": [
       "$\\displaystyle \\frac{- 3 x^{2} z^{2} - 4 y z}{4 x z + 3 y^{2}}$"
      ],
      "text/plain": [
       "     2  2        \n",
       "- 3⋅x ⋅z  - 4⋅y⋅z\n",
       "─────────────────\n",
       "             2   \n",
       "  4⋅x⋅z + 3⋅y    "
      ]
     },
     "metadata": {},
     "output_type": "display_data"
    },
    {
     "data": {
      "image/png": "[encoded data removed]",
      "text/latex": [
       "$\\displaystyle \\frac{- 2 x^{3} z - 4 x y}{4 x z + 3 y^{2}}$"
      ],
      "text/plain": [
       "     3          \n",
       "- 2⋅x ⋅z - 4⋅x⋅y\n",
       "────────────────\n",
       "             2  \n",
       "  4⋅x⋅z + 3⋅y   "
      ]
     },
     "metadata": {},
     "output_type": "display_data"
    }
   ],
   "source": [
    "f = x**3*z**2 + y**3 + 4*x*y*z\n",
    "dydx = -diff(f, x) / diff(f, y)\n",
    "dydz = -diff(f, z) / diff(f, y)\n",
    "display(dydx)\n",
    "display(dydz)"
   ]
  },
  {
   "cell_type": "markdown",
   "id": "c28e6be1",
   "metadata": {},
   "source": [
    "c. $f(x, y, z)=3 x^{2} y^{3}+x z^{2} y^{2}+y^{3} z x^{4}+y^{2} z$"
   ]
  },
  {
   "cell_type": "code",
   "execution_count": 104,
   "id": "5a0aa116",
   "metadata": {},
   "outputs": [
    {
     "data": {
      "image/png": "[encoded data removed]",
      "text/latex": [
       "$\\displaystyle \\frac{- 4 x^{3} y^{3} z - 6 x y^{3} - y^{2} z^{2}}{3 x^{4} y^{2} z + 9 x^{2} y^{2} + 2 x y z^{2} + 2 y z}$"
      ],
      "text/plain": [
       "          3  3          3    2  2     \n",
       "     - 4⋅x ⋅y ⋅z - 6⋅x⋅y  - y ⋅z      \n",
       "──────────────────────────────────────\n",
       "   4  2        2  2          2        \n",
       "3⋅x ⋅y ⋅z + 9⋅x ⋅y  + 2⋅x⋅y⋅z  + 2⋅y⋅z"
      ]
     },
     "metadata": {},
     "output_type": "display_data"
    },
    {
     "data": {
      "image/png": "[encoded data removed]",
      "text/latex": [
       "$\\displaystyle \\frac{- x^{4} y^{3} - 2 x y^{2} z - y^{2}}{3 x^{4} y^{2} z + 9 x^{2} y^{2} + 2 x y z^{2} + 2 y z}$"
      ],
      "text/plain": [
       "          4  3        2      2        \n",
       "       - x ⋅y  - 2⋅x⋅y ⋅z - y         \n",
       "──────────────────────────────────────\n",
       "   4  2        2  2          2        \n",
       "3⋅x ⋅y ⋅z + 9⋅x ⋅y  + 2⋅x⋅y⋅z  + 2⋅y⋅z"
      ]
     },
     "metadata": {},
     "output_type": "display_data"
    }
   ],
   "source": [
    "f = 3*x**2*y**3 + x*z**2*y**2 + y**3*z*x**4 + y**2*z\n",
    "dydx = -diff(f, x) / diff(f, y)\n",
    "dydz = -diff(f, z) / diff(f, y)\n",
    "display(dydx)\n",
    "display(dydz)"
   ]
  },
  {
   "cell_type": "markdown",
   "id": "bc615341",
   "metadata": {},
   "source": [
    "### Question 5\n",
    "Find $\\frac{\\partial F}{\\partial s}$ and $\\frac{\\partial F}{\\partial t}$, if applicable, for the following composite functions\n",
    "\n",
    "a. $F=\\sin (x+y)$ where $x=2st$ and $y=s^2+t^2$"
   ]
  },
  {
   "cell_type": "code",
   "execution_count": 105,
   "id": "e88cadb7",
   "metadata": {},
   "outputs": [
    {
     "data": {
      "image/png": "[encoded data removed]",
      "text/latex": [
       "$\\displaystyle \\left(2 s + 2 t\\right) \\cos{\\left(s^{2} + 2 s t + t^{2} \\right)}$"
      ],
      "text/plain": [
       "               ⎛ 2            2⎞\n",
       "(2⋅s + 2⋅t)⋅cos⎝s  + 2⋅s⋅t + t ⎠"
      ]
     },
     "metadata": {},
     "output_type": "display_data"
    },
    {
     "data": {
      "image/png": "[encoded data removed]",
      "text/latex": [
       "$\\displaystyle \\left(2 s + 2 t\\right) \\cos{\\left(s^{2} + 2 s t + t^{2} \\right)}$"
      ],
      "text/plain": [
       "               ⎛ 2            2⎞\n",
       "(2⋅s + 2⋅t)⋅cos⎝s  + 2⋅s⋅t + t ⎠"
      ]
     },
     "metadata": {},
     "output_type": "display_data"
    }
   ],
   "source": [
    "F = sin(x+y)\n",
    "x_s = 2*s*t\n",
    "y_s = s**2 + t**2\n",
    "F_s = F.subs([(x, x_s), (y, y_s)])\n",
    "display(diff(F_s, s))\n",
    "display(diff(F_s, t))"
   ]
  },
  {
   "cell_type": "markdown",
   "id": "e0e24605",
   "metadata": {},
   "source": [
    "b. $F=\\ln \\left(x^{2}+y\\right)$ where $x=\\mathrm{e}^{(s+t 2)}$ and $y=s^{2}+t$ "
   ]
  },
  {
   "cell_type": "code",
   "execution_count": 106,
   "id": "1b17bd86",
   "metadata": {},
   "outputs": [
    {
     "data": {
      "image/png": "[encoded data removed]",
      "text/latex": [
       "$\\displaystyle \\frac{2 s + 2 e^{2 s + 2 t^{2}}}{s^{2} + t + e^{2 s + 2 t^{2}}}$"
      ],
      "text/plain": [
       "                  2 \n",
       "         2⋅s + 2⋅t  \n",
       "2⋅s + 2⋅ℯ           \n",
       "────────────────────\n",
       "                   2\n",
       " 2        2⋅s + 2⋅t \n",
       "s  + t + ℯ          "
      ]
     },
     "metadata": {},
     "output_type": "display_data"
    },
    {
     "data": {
      "image/png": "[encoded data removed]",
      "text/latex": [
       "$\\displaystyle \\frac{4 t e^{2 s + 2 t^{2}} + 1}{s^{2} + t + e^{2 s + 2 t^{2}}}$"
      ],
      "text/plain": [
       "              2     \n",
       "     2⋅s + 2⋅t      \n",
       "4⋅t⋅ℯ           + 1 \n",
       "────────────────────\n",
       "                   2\n",
       " 2        2⋅s + 2⋅t \n",
       "s  + t + ℯ          "
      ]
     },
     "metadata": {},
     "output_type": "display_data"
    }
   ],
   "source": [
    "F = ln(x**2 + y)\n",
    "x_st = exp(s+t**2)\n",
    "y_st = s**2 + t\n",
    "F_st = F.subs([(x, x_st), (y, y_st)])\n",
    "display(diff(F_st, s))\n",
    "display(diff(F_st, t))"
   ]
  },
  {
   "cell_type": "markdown",
   "id": "5b1910f7",
   "metadata": {},
   "source": [
    "c. $F=x^{2} y^{2}$ where $x=s \\cos t$ and $y=s \\sin t$ "
   ]
  },
  {
   "cell_type": "code",
   "execution_count": 107,
   "id": "c617da8d",
   "metadata": {},
   "outputs": [
    {
     "data": {
      "image/png": "[encoded data removed]",
      "text/latex": [
       "$\\displaystyle 4 s^{3} \\sin^{2}{\\left(t \\right)} \\cos^{2}{\\left(t \\right)}$"
      ],
      "text/plain": [
       "   3    2       2   \n",
       "4⋅s ⋅sin (t)⋅cos (t)"
      ]
     },
     "metadata": {},
     "output_type": "display_data"
    },
    {
     "data": {
      "image/png": "[encoded data removed]",
      "text/latex": [
       "$\\displaystyle - 2 s^{4} \\sin^{3}{\\left(t \\right)} \\cos{\\left(t \\right)} + 2 s^{4} \\sin{\\left(t \\right)} \\cos^{3}{\\left(t \\right)}$"
      ],
      "text/plain": [
       "     4    3                4           3   \n",
       "- 2⋅s ⋅sin (t)⋅cos(t) + 2⋅s ⋅sin(t)⋅cos (t)"
      ]
     },
     "metadata": {},
     "output_type": "display_data"
    }
   ],
   "source": [
    "F = x**2*y**2\n",
    "x_st = s*cos(t)\n",
    "y_st = s*sin(t)\n",
    "F_st = F.subs([(x, x_st), (y, y_st)])\n",
    "display(diff(F_st, s))\n",
    "display(diff(F_st, t))"
   ]
  },
  {
   "cell_type": "markdown",
   "id": "c447b4cf",
   "metadata": {},
   "source": [
    "d. $F=xy+y \\mathrm{z}^{2}$ where $x=\\mathrm{e}^{t}, y=\\mathrm{e}^{t} \\sin t$ and $\\mathrm{z}=\\mathrm{e}^{t} \\cos t$ "
   ]
  },
  {
   "cell_type": "code",
   "execution_count": 108,
   "id": "f64a54ce",
   "metadata": {},
   "outputs": [
    {
     "data": {
      "image/png": "[encoded data removed]",
      "text/latex": [
       "$\\displaystyle - 2 e^{3 t} \\sin^{2}{\\left(t \\right)} \\cos{\\left(t \\right)} + 3 e^{3 t} \\sin{\\left(t \\right)} \\cos^{2}{\\left(t \\right)} + e^{3 t} \\cos^{3}{\\left(t \\right)} + 2 e^{2 t} \\sin{\\left(t \\right)} + e^{2 t} \\cos{\\left(t \\right)}$"
      ],
      "text/plain": [
       "     3⋅t    2                3⋅t           2       3⋅t    3         2⋅t        ↪\n",
       "- 2⋅ℯ   ⋅sin (t)⋅cos(t) + 3⋅ℯ   ⋅sin(t)⋅cos (t) + ℯ   ⋅cos (t) + 2⋅ℯ   ⋅sin(t) ↪\n",
       "\n",
       "↪     2⋅t       \n",
       "↪  + ℯ   ⋅cos(t)"
      ]
     },
     "metadata": {},
     "output_type": "display_data"
    }
   ],
   "source": [
    "F = x*y + y*z**2\n",
    "x_t = E**t\n",
    "y_t = E**t*sin(t)\n",
    "z_t = E**t*cos(t)\n",
    "F_t = F.subs([(x, x_t), (y, y_t), (z, z_t)])\n",
    "display(diff(F_t, t))"
   ]
  },
  {
   "cell_type": "markdown",
   "id": "3f0c238f",
   "metadata": {},
   "source": [
    "### Question 6\n",
    "Find $d y / d x$ and $d y / d z$ (if applicable) for each of the following\n",
    "\n",
    "a. $7 x^{2}+2 x y^{2}+9 y^{4}=0$"
   ]
  },
  {
   "cell_type": "code",
   "execution_count": 109,
   "id": "bbebddd1",
   "metadata": {},
   "outputs": [
    {
     "data": {
      "image/png": "[encoded data removed]",
      "text/latex": [
       "$\\displaystyle - \\frac{\\frac{7 x}{y} + y}{2 \\left(x + 9 y^{2}\\right)}$"
      ],
      "text/plain": [
       " ⎛7⋅x    ⎞  \n",
       "-⎜─── + y⎟  \n",
       " ⎝ y     ⎠  \n",
       "────────────\n",
       "  ⎛       2⎞\n",
       "2⋅⎝x + 9⋅y ⎠"
      ]
     },
     "metadata": {},
     "output_type": "display_data"
    }
   ],
   "source": [
    "f = 7*x**2 + 2*x*y**2 + 9*y**4\n",
    "dydx = idiff(f, y, x)\n",
    "display(dydx)"
   ]
  },
  {
   "cell_type": "markdown",
   "id": "338269ff",
   "metadata": {},
   "source": [
    "b. $x^{3} z^{2}+y^{3}+4 x y z=0$"
   ]
  },
  {
   "cell_type": "code",
   "execution_count": 110,
   "id": "76841f79",
   "metadata": {},
   "outputs": [
    {
     "data": {
      "image/png": "[encoded data removed]",
      "text/latex": [
       "$\\displaystyle - \\frac{z \\left(3 x^{2} z + 4 y\\right)}{4 x z + 3 y^{2}}$"
      ],
      "text/plain": [
       "   ⎛   2        ⎞ \n",
       "-z⋅⎝3⋅x ⋅z + 4⋅y⎠ \n",
       "──────────────────\n",
       "              2   \n",
       "   4⋅x⋅z + 3⋅y    "
      ]
     },
     "metadata": {},
     "output_type": "display_data"
    },
    {
     "data": {
      "image/png": "[encoded data removed]",
      "text/latex": [
       "$\\displaystyle - \\frac{2 x \\left(x^{2} z + 2 y\\right)}{4 x z + 3 y^{2}}$"
      ],
      "text/plain": [
       "     ⎛ 2        ⎞ \n",
       "-2⋅x⋅⎝x ⋅z + 2⋅y⎠ \n",
       "──────────────────\n",
       "              2   \n",
       "   4⋅x⋅z + 3⋅y    "
      ]
     },
     "metadata": {},
     "output_type": "display_data"
    }
   ],
   "source": [
    "f = x**3*z**2 + y**3 + 4*x*y*z\n",
    "dydx = idiff(f, y, x)\n",
    "dydz = idiff(f, y, z)\n",
    "display(dydx)\n",
    "display(dydz)"
   ]
  },
  {
   "cell_type": "markdown",
   "id": "751e607e",
   "metadata": {},
   "source": [
    "c. $3 x^{2} y^{3}+x z^{2} y^{2}+y^{3} z x^{4}+y^{2} z=0$"
   ]
  },
  {
   "cell_type": "code",
   "execution_count": 111,
   "id": "aac1a7f6",
   "metadata": {},
   "outputs": [
    {
     "data": {
      "image/png": "[encoded data removed]",
      "text/latex": [
       "$\\displaystyle - \\frac{y \\left(4 x^{3} y z + 6 x y + z^{2}\\right)}{3 x^{4} y z + 9 x^{2} y + 2 x z^{2} + 2 z}$"
      ],
      "text/plain": [
       "     ⎛   3                2⎞    \n",
       "  -y⋅⎝4⋅x ⋅y⋅z + 6⋅x⋅y + z ⎠    \n",
       "────────────────────────────────\n",
       "   4          2          2      \n",
       "3⋅x ⋅y⋅z + 9⋅x ⋅y + 2⋅x⋅z  + 2⋅z"
      ]
     },
     "metadata": {},
     "output_type": "display_data"
    },
    {
     "data": {
      "image/png": "[encoded data removed]",
      "text/latex": [
       "$\\displaystyle - \\frac{y \\left(x^{4} y + 2 x z + 1\\right)}{3 x^{4} y z + 9 x^{2} y + 2 x z^{2} + 2 z}$"
      ],
      "text/plain": [
       "        ⎛ 4              ⎞      \n",
       "     -y⋅⎝x ⋅y + 2⋅x⋅z + 1⎠      \n",
       "────────────────────────────────\n",
       "   4          2          2      \n",
       "3⋅x ⋅y⋅z + 9⋅x ⋅y + 2⋅x⋅z  + 2⋅z"
      ]
     },
     "metadata": {},
     "output_type": "display_data"
    }
   ],
   "source": [
    "f = 3*x**2*y**3 + x*z**2*y**2 + y**3*z*x**4 + y**2*z\n",
    "dydx = idiff(f, y, x)\n",
    "dydz = idiff(f, y, z)\n",
    "display(dydx)\n",
    "display(dydz)"
   ]
  },
  {
   "cell_type": "markdown",
   "id": "998787a1",
   "metadata": {},
   "source": [
    "d. $y^{5}+x^{2} y^{3}=1+y \\exp \\left(x^{2}\\right)$ "
   ]
  },
  {
   "cell_type": "code",
   "execution_count": 112,
   "id": "943eac32",
   "metadata": {},
   "outputs": [
    {
     "data": {
      "image/png": "[encoded data removed]",
      "text/latex": [
       "$\\displaystyle \\frac{2 x y \\left(- y^{2} + e^{x^{2}}\\right)}{3 x^{2} y^{2} + 5 y^{4} - e^{x^{2}}}$"
      ],
      "text/plain": [
       "       ⎛        ⎛ 2⎞⎞ \n",
       "       ⎜   2    ⎝x ⎠⎟ \n",
       " 2⋅x⋅y⋅⎝- y  + ℯ    ⎠ \n",
       "──────────────────────\n",
       "                  ⎛ 2⎞\n",
       "   2  2      4    ⎝x ⎠\n",
       "3⋅x ⋅y  + 5⋅y  - ℯ    "
      ]
     },
     "metadata": {},
     "output_type": "display_data"
    }
   ],
   "source": [
    "f = y**5 + x**2*y**3 - (1 + y*exp(x**2))\n",
    "dydx = idiff(f, y, x)\n",
    "display(dydx)"
   ]
  },
  {
   "cell_type": "markdown",
   "id": "c7eff818",
   "metadata": {},
   "source": [
    "### Question 7\n",
    "a. In polar coordinates, $x=r \\cos \\theta, y=r \\sin \\theta$, show that $\\frac{\\partial(x, y)}{\\partial(r, \\theta)}=r$ "
   ]
  },
  {
   "cell_type": "code",
   "execution_count": 115,
   "id": "38b5b5fa",
   "metadata": {},
   "outputs": [
    {
     "data": {
      "text/latex": [
       "$\\displaystyle \\left[\\begin{matrix}\\cos{\\left(\\theta \\right)} & - r \\sin{\\left(\\theta \\right)}\\\\\\sin{\\left(\\theta \\right)} & r \\cos{\\left(\\theta \\right)}\\end{matrix}\\right]$"
      ],
      "text/plain": [
       "⎡cos(θ)  -r⋅sin(θ)⎤\n",
       "⎢                 ⎥\n",
       "⎣sin(θ)  r⋅cos(θ) ⎦"
      ]
     },
     "metadata": {},
     "output_type": "display_data"
    },
    {
     "data": {
      "image/png": "[encoded data removed]",
      "text/latex": [
       "$\\displaystyle r \\sin^{2}{\\left(\\theta \\right)} + r \\cos^{2}{\\left(\\theta \\right)}$"
      ],
      "text/plain": [
       "     2           2   \n",
       "r⋅sin (θ) + r⋅cos (θ)"
      ]
     },
     "metadata": {},
     "output_type": "display_data"
    }
   ],
   "source": [
    "X = Matrix([r*cos(theta), r*sin(theta)])\n",
    "Y = Matrix([r, theta])\n",
    "J = X.jacobian(Y)\n",
    "display(J)\n",
    "display(J.det())"
   ]
  },
  {
   "cell_type": "markdown",
   "id": "b55cabfb",
   "metadata": {},
   "source": [
    "b. Obtain the Jacobian $J$ of the transformation $s=2 x+y, t=x-2 y$ and determine the inverse of the transformation $J_{1}$. Confirm that $J_{1}=J^{-1}$."
   ]
  },
  {
   "cell_type": "code",
   "execution_count": 116,
   "id": "1a9545ad",
   "metadata": {},
   "outputs": [
    {
     "data": {
      "text/latex": [
       "$\\displaystyle \\left[\\begin{matrix}2 & 1\\\\1 & -2\\end{matrix}\\right]$"
      ],
      "text/plain": [
       "⎡2  1 ⎤\n",
       "⎢     ⎥\n",
       "⎣1  -2⎦"
      ]
     },
     "metadata": {},
     "output_type": "display_data"
    },
    {
     "data": {
      "image/png": "[encoded data removed]",
      "text/latex": [
       "$\\displaystyle -5$"
      ],
      "text/plain": [
       "-5"
      ]
     },
     "metadata": {},
     "output_type": "display_data"
    },
    {
     "data": {
      "text/latex": [
       "$\\displaystyle \\left[\\begin{matrix}\\frac{2}{5} & \\frac{1}{5}\\\\\\frac{1}{5} & - \\frac{2}{5}\\end{matrix}\\right]$"
      ],
      "text/plain": [
       "⎡2/5  1/5 ⎤\n",
       "⎢         ⎥\n",
       "⎣1/5  -2/5⎦"
      ]
     },
     "metadata": {},
     "output_type": "display_data"
    },
    {
     "data": {
      "image/png": "[encoded data removed]",
      "text/latex": [
       "$\\displaystyle - \\frac{1}{5}$"
      ],
      "text/plain": [
       "-1/5"
      ]
     },
     "metadata": {},
     "output_type": "display_data"
    },
    {
     "data": {
      "text/latex": [
       "$\\displaystyle \\left[\\begin{matrix}\\frac{2}{5} & \\frac{1}{5}\\\\\\frac{1}{5} & - \\frac{2}{5}\\end{matrix}\\right]$"
      ],
      "text/plain": [
       "⎡2/5  1/5 ⎤\n",
       "⎢         ⎥\n",
       "⎣1/5  -2/5⎦"
      ]
     },
     "metadata": {},
     "output_type": "display_data"
    }
   ],
   "source": [
    "S = Matrix([2*x+y, x-2*y])\n",
    "X = Matrix([x, y])\n",
    "J = S.jacobian(X)\n",
    "display(J)\n",
    "display(J.det())\n",
    "\n",
    "# Inverse\n",
    "sol = solve([s - (2*x+y), t - (x-2*y)], (x, y))\n",
    "x_st = sol[x]\n",
    "y_st = sol[y]\n",
    "X_st = Matrix([x_st, y_st])\n",
    "S_st = Matrix([s, t])\n",
    "J1 = X_st.jacobian(S_st)\n",
    "display(J1)\n",
    "display(J1.det())\n",
    "display(J.inv())"
   ]
  },
  {
   "cell_type": "markdown",
   "id": "8db5c5d8",
   "metadata": {},
   "source": [
    "c. Show that if $x+y=\\mathrm{u}$ and $y=\\mathrm{uv}$, then $\\frac{\\partial(x, y)}{\\partial(u, v)}=u$. "
   ]
  },
  {
   "cell_type": "code",
   "execution_count": 117,
   "id": "6842fc62",
   "metadata": {},
   "outputs": [
    {
     "data": {
      "text/latex": [
       "$\\displaystyle \\left[\\begin{matrix}1 - v & - u\\\\v & u\\end{matrix}\\right]$"
      ],
      "text/plain": [
       "⎡1 - v  -u⎤\n",
       "⎢         ⎥\n",
       "⎣  v    u ⎦"
      ]
     },
     "metadata": {},
     "output_type": "display_data"
    },
    {
     "data": {
      "image/png": "[encoded data removed]",
      "text/latex": [
       "$\\displaystyle u$"
      ],
      "text/plain": [
       "u"
      ]
     },
     "metadata": {},
     "output_type": "display_data"
    }
   ],
   "source": [
    "# x = u - y => x = u - uv\n",
    "x_uv = u - u*v\n",
    "y_uv = u*v\n",
    "X = Matrix([x_uv, y_uv])\n",
    "Y = Matrix([u, v])\n",
    "J = X.jacobian(Y)\n",
    "display(J)\n",
    "display(J.det())"
   ]
  },
  {
   "cell_type": "markdown",
   "id": "6cfd8a3a",
   "metadata": {},
   "source": [
    "d. Verify whether the functions $u=\\frac{x+y}{1-x y}$ and $v=\\tan ^{-1} x+\\tan ^{-1} y$ are functionally dependent."
   ]
  },
  {
   "cell_type": "code",
   "execution_count": 118,
   "id": "67635238",
   "metadata": {},
   "outputs": [
    {
     "data": {
      "text/latex": [
       "$\\displaystyle \\left[\\begin{matrix}\\frac{y \\left(x + y\\right)}{\\left(- x y + 1\\right)^{2}} + \\frac{1}{- x y + 1} & \\frac{x \\left(x + y\\right)}{\\left(- x y + 1\\right)^{2}} + \\frac{1}{- x y + 1}\\\\\\frac{1}{x^{2} + 1} & \\frac{1}{y^{2} + 1}\\end{matrix}\\right]$"
      ],
      "text/plain": [
       "⎡ y⋅(x + y)       1       x⋅(x + y)       1    ⎤\n",
       "⎢─────────── + ────────  ─────────── + ────────⎥\n",
       "⎢          2   -x⋅y + 1            2   -x⋅y + 1⎥\n",
       "⎢(-x⋅y + 1)              (-x⋅y + 1)            ⎥\n",
       "⎢                                              ⎥\n",
       "⎢          1                       1           ⎥\n",
       "⎢        ──────                  ──────        ⎥\n",
       "⎢         2                       2            ⎥\n",
       "⎣        x  + 1                  y  + 1        ⎦"
      ]
     },
     "metadata": {},
     "output_type": "display_data"
    },
    {
     "data": {
      "image/png": "[encoded data removed]",
      "text/latex": [
       "$\\displaystyle 0$"
      ],
      "text/plain": [
       "0"
      ]
     },
     "metadata": {},
     "output_type": "display_data"
    }
   ],
   "source": [
    "u_xy = (x+y)/(1-x*y)\n",
    "v_xy = atan(x) + atan(y)\n",
    "U = Matrix([u_xy, v_xy])\n",
    "X = Matrix([x, y])\n",
    "J = U.jacobian(X)\n",
    "display(J)\n",
    "display(J.det().simplify())"
   ]
  },
  {
   "cell_type": "markdown",
   "id": "b2b1d046",
   "metadata": {},
   "source": [
    "The Jacobian is 0, so the functions are functionally dependent."
   ]
  },
  {
   "cell_type": "markdown",
   "id": "621ad5d9",
   "metadata": {},
   "source": [
    "e. If $x=uv, y=\\frac{u+v}{u-v}$, find $\\frac{\\partial(u, v)}{\\partial(x, y)}$."
   ]
  },
  {
   "cell_type": "code",
   "execution_count": 183,
   "id": "797448d0",
   "metadata": {},
   "outputs": [
    {
     "data": {
      "image/png": "[encoded data removed]",
      "text/latex": [
       "$\\displaystyle \\frac{4 u v}{u^{2} - 2 u v + v^{2}}$"
      ],
      "text/plain": [
       "     4⋅u⋅v     \n",
       "───────────────\n",
       " 2            2\n",
       "u  - 2⋅u⋅v + v "
      ]
     },
     "execution_count": 183,
     "metadata": {},
     "output_type": "execute_result"
    }
   ],
   "source": [
    "jacobian = Matrix([[diff(u*v, u), diff(u*v, v)],\n",
    "                   [diff((u+v)/(u-v), u), diff((u+v)/(u-v), v)]])\n",
    "simplify(jacobian.det())  # ∂(x,y)/∂(u,v)"
   ]
  }
 ],
 "metadata": {
  "kernelspec": {
   "display_name": "Python 3",
   "language": "python",
   "name": "python3"
  },
  "language_info": {
   "codemirror_mode": {
    "name": "ipython",
    "version": 3
   },
   "file_extension": ".py",
   "mimetype": "text/x-python",
   "name": "python",
   "nbconvert_exporter": "python",
   "pygments_lexer": "ipython3",
   "version": "3.12.1"
  }
 },
 "nbformat": 4,
 "nbformat_minor": 5
}
