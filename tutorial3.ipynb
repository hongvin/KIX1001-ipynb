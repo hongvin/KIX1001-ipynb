{
 "cells": [
  {
   "cell_type": "markdown",
   "id": "fafb3011",
   "metadata": {},
   "source": [
    "# Tutorial 3: Vector Algebra I"
   ]
  },
  {
   "cell_type": "markdown",
   "id": "326dee99",
   "metadata": {},
   "source": [
    "## Introduction\n",
    "\n",
    "This tutorial covers vector algebra using Python and SymPy."
   ]
  },
  {
   "cell_type": "code",
   "execution_count": 1,
   "id": "42371f82",
   "metadata": {},
   "outputs": [],
   "source": [
    "import sympy as sy\n",
    "from sympy import Point3D, Matrix, acos, cos, pi, sqrt\n",
    "from sympy.vector import CoordSys3D, Del\n",
    "sy.init_printing(use_latex=True)"
   ]
  },
  {
   "cell_type": "markdown",
   "id": "d8298a34",
   "metadata": {},
   "source": [
    "### Question 1\n",
    "Sketch the two points $P(3,-1,5)$ and $Q(2,1,-1)$ in three-dimensional space and find the distance between the two points."
   ]
  },
  {
   "cell_type": "code",
   "execution_count": 2,
   "id": "60a0200d",
   "metadata": {},
   "outputs": [
    {
     "data": {
      "image/png": "[encoded data removed]",
      "text/latex": [
       "$\\displaystyle \\sqrt{41}$"
      ],
      "text/plain": [
       "√41"
      ]
     },
     "metadata": {},
     "output_type": "display_data"
    }
   ],
   "source": [
    "P = Point3D(3, -1, 5)\n",
    "Q = Point3D(2, 1, -1)\n",
    "distance = P.distance(Q)\n",
    "display(distance)"
   ]
  },
  {
   "cell_type": "markdown",
   "id": "db3e0ab7",
   "metadata": {},
   "source": [
    "### Question 3\n",
    "Two vectors are given as $\\overrightarrow{O P}=\\underset{\\sim}{i}+3 \\underset{\\sim}{j}-7 \\underset{\\sim}{k}$ and $\\overrightarrow{O Q}=\\underset{\\sim}{5} i-2 \\underset{\\sim}{j}+4 \\underset{\\sim}{k}$\n",
    "\n",
    "i. Find the unit vector in the direction of $\\overrightarrow{P Q}$"
   ]
  },
  {
   "cell_type": "code",
   "execution_count": 4,
   "id": "ab0317e4",
   "metadata": {},
   "outputs": [
    {
     "data": {
      "text/latex": [
       "$\\displaystyle \\left[\\begin{matrix}\\frac{2 \\sqrt{2}}{9}\\\\- \\frac{5 \\sqrt{2}}{18}\\\\\\frac{11 \\sqrt{2}}{18}\\end{matrix}\\right]$"
      ],
      "text/plain": [
       "⎡ 2⋅√2 ⎤\n",
       "⎢ ──── ⎥\n",
       "⎢  9   ⎥\n",
       "⎢      ⎥\n",
       "⎢-5⋅√2 ⎥\n",
       "⎢──────⎥\n",
       "⎢  18  ⎥\n",
       "⎢      ⎥\n",
       "⎢11⋅√2 ⎥\n",
       "⎢───── ⎥\n",
       "⎣ 18   ⎦"
      ]
     },
     "metadata": {},
     "output_type": "display_data"
    }
   ],
   "source": [
    "OP = Matrix([1, 3, -7])\n",
    "OQ = Matrix([5, -2, 4])\n",
    "PQ = OQ - OP\n",
    "unit_PQ = PQ.normalized()\n",
    "display(unit_PQ)"
   ]
  },
  {
   "cell_type": "markdown",
   "id": "a01f7107",
   "metadata": {},
   "source": [
    "ii. Find the direction cosines of $\\overrightarrow{P Q}$"
   ]
  },
  {
   "cell_type": "code",
   "execution_count": 5,
   "id": "c2f5b1f7",
   "metadata": {},
   "outputs": [
    {
     "data": {
      "image/png": "[encoded data removed]",
      "text/latex": [
       "$\\displaystyle \\frac{2 \\sqrt{2}}{9}$"
      ],
      "text/plain": [
       "2⋅√2\n",
       "────\n",
       " 9  "
      ]
     },
     "metadata": {},
     "output_type": "display_data"
    },
    {
     "data": {
      "image/png": "[encoded data removed]",
      "text/latex": [
       "$\\displaystyle - \\frac{5 \\sqrt{2}}{18}$"
      ],
      "text/plain": [
       "-5⋅√2 \n",
       "──────\n",
       "  18  "
      ]
     },
     "metadata": {},
     "output_type": "display_data"
    },
    {
     "data": {
      "image/png": "[encoded data removed]",
      "text/latex": [
       "$\\displaystyle \\frac{11 \\sqrt{2}}{18}$"
      ],
      "text/plain": [
       "11⋅√2\n",
       "─────\n",
       " 18  "
      ]
     },
     "metadata": {},
     "output_type": "display_data"
    }
   ],
   "source": [
    "cos_alpha = unit_PQ[0]\n",
    "cos_beta = unit_PQ[1]\n",
    "cos_gamma = unit_PQ[2]\n",
    "display(cos_alpha)\n",
    "display(cos_beta)\n",
    "display(cos_gamma)"
   ]
  },
  {
   "cell_type": "markdown",
   "id": "5b7e082e",
   "metadata": {},
   "source": [
    "iii. Find the vector with magnitude of 5 in the direction of $\\overrightarrow{Q P}$ in polar form"
   ]
  },
  {
   "cell_type": "code",
   "execution_count": 6,
   "id": "ce4081dc",
   "metadata": {},
   "outputs": [
    {
     "data": {
      "text/latex": [
       "$\\displaystyle \\left[\\begin{matrix}- \\frac{10 \\sqrt{2}}{9}\\\\\\frac{25 \\sqrt{2}}{18}\\\\- \\frac{55 \\sqrt{2}}{18}\\end{matrix}\\right]$"
      ],
      "text/plain": [
       "⎡-10⋅√2 ⎤\n",
       "⎢───────⎥\n",
       "⎢   9   ⎥\n",
       "⎢       ⎥\n",
       "⎢ 25⋅√2 ⎥\n",
       "⎢ ───── ⎥\n",
       "⎢  18   ⎥\n",
       "⎢       ⎥\n",
       "⎢-55⋅√2 ⎥\n",
       "⎢───────⎥\n",
       "⎣  18   ⎦"
      ]
     },
     "metadata": {},
     "output_type": "display_data"
    }
   ],
   "source": [
    "QP = -PQ\n",
    "unit_QP = QP.normalized()\n",
    "vec_5_QP = 5 * unit_QP\n",
    "display(vec_5_QP)"
   ]
  },
  {
   "cell_type": "markdown",
   "id": "56918a78",
   "metadata": {},
   "source": [
    "### Question 4\n",
    "Two points are given as $A(1,2)$ and $B(3,4)$.\n",
    "\n",
    "i. Find the vector equation of line $L$ that is passing through point $A$ and $B$."
   ]
  },
  {
   "cell_type": "code",
   "execution_count": 7,
   "id": "0bb96309",
   "metadata": {},
   "outputs": [
    {
     "data": {
      "text/latex": [
       "$\\displaystyle \\left[\\begin{matrix}2 t + 1\\\\2 t + 2\\end{matrix}\\right]$"
      ],
      "text/plain": [
       "⎡2⋅t + 1⎤\n",
       "⎢       ⎥\n",
       "⎣2⋅t + 2⎦"
      ]
     },
     "metadata": {},
     "output_type": "display_data"
    }
   ],
   "source": [
    "A = Matrix([1, 2])\n",
    "B = Matrix([3, 4])\n",
    "v = B - A\n",
    "t = sy.symbols('t')\n",
    "r = A + t*v\n",
    "display(r)"
   ]
  },
  {
   "cell_type": "markdown",
   "id": "1b654b92",
   "metadata": {},
   "source": [
    "### Question 6\n",
    "If $\\vec{a}$ is a unit vector and $(\\vec{x}-\\vec{a}) \\cdot(\\vec{x}+\\vec{a})=8$, find $|\\vec{x}|$. "
   ]
  },
  {
   "cell_type": "code",
   "execution_count": 9,
   "id": "63f98802",
   "metadata": {},
   "outputs": [
    {
     "data": {
      "image/png": "[encoded data removed]",
      "text/latex": [
       "$\\displaystyle 3$"
      ],
      "text/plain": [
       "3"
      ]
     },
     "metadata": {},
     "output_type": "display_data"
    }
   ],
   "source": [
    "x_norm_sq = sy.symbols('|x|^2')\n",
    "a_norm = 1\n",
    "eq = x_norm_sq - a_norm**2 - 8\n",
    "sol = sy.solve(eq, x_norm_sq)\n",
    "x_norm = sqrt(sol[0])\n",
    "display(x_norm)"
   ]
  },
  {
   "cell_type": "markdown",
   "id": "58f3024c",
   "metadata": {},
   "source": [
    "### Question 7\n",
    "Find the gradient for $f=\\left(2 x^{2}+y\\right) /\\left(x^{2}-y^{2}\\right)$."
   ]
  },
  {
   "cell_type": "code",
   "execution_count": 10,
   "id": "e8a03b45",
   "metadata": {},
   "outputs": [
    {
     "data": {
      "image/png": "[encoded data removed]",
      "text/latex": [
       "$\\displaystyle \\left[ \\frac{4 x}{x^{2} - y^{2}} - \\frac{2 x \\left(2 x^{2} + y\\right)}{\\left(x^{2} - y^{2}\\right)^{2}}, \\  \\frac{2 y \\left(2 x^{2} + y\\right)}{\\left(x^{2} - y^{2}\\right)^{2}} + \\frac{1}{x^{2} - y^{2}}\\right]$"
      ],
      "text/plain": [
       "⎡              ⎛   2    ⎞      ⎛   2    ⎞          ⎤\n",
       "⎢  4⋅x     2⋅x⋅⎝2⋅x  + y⎠  2⋅y⋅⎝2⋅x  + y⎠      1   ⎥\n",
       "⎢─────── - ──────────────, ────────────── + ───────⎥\n",
       "⎢ 2    2              2               2      2    2⎥\n",
       "⎢x  - y      ⎛ 2    2⎞       ⎛ 2    2⎞      x  - y ⎥\n",
       "⎣            ⎝x  - y ⎠       ⎝x  - y ⎠             ⎦"
      ]
     },
     "metadata": {},
     "output_type": "display_data"
    }
   ],
   "source": [
    "x, y = sy.symbols('x y')\n",
    "f = (2*x**2 + y) / (x**2 - y**2)\n",
    "grad_f = [sy.diff(f, x), sy.diff(f, y)]\n",
    "display(grad_f)"
   ]
  },
  {
   "cell_type": "markdown",
   "id": "13a64d57",
   "metadata": {},
   "source": [
    "### Question 8\n",
    "Calculate the divergence of the following vector fields of $F(x, y)$ and $G(x, y)$;\n",
    "\n",
    "a. $F=y^{3} \\boldsymbol{i}+x y \\boldsymbol{j}$ "
   ]
  },
  {
   "cell_type": "code",
   "execution_count": 11,
   "id": "1ef7e78d",
   "metadata": {},
   "outputs": [
    {
     "data": {
      "image/png": "[encoded data removed]",
      "text/latex": [
       "$\\displaystyle \\mathbf{{x}_{N}}$"
      ],
      "text/plain": [
       "x_N"
      ]
     },
     "metadata": {},
     "output_type": "display_data"
    }
   ],
   "source": [
    "N = CoordSys3D('N')\n",
    "F = N.y**3 * N.i + N.x*N.y * N.j\n",
    "delop = Del()\n",
    "div_F = delop.dot(F).doit()\n",
    "display(div_F)"
   ]
  },
  {
   "cell_type": "markdown",
   "id": "8c737f66",
   "metadata": {},
   "source": [
    "b. $G=\\frac{4 y}{x^{2}} \\boldsymbol{i}+\\sin (y) \\boldsymbol{j}+3 \\boldsymbol{k}$ "
   ]
  },
  {
   "cell_type": "code",
   "execution_count": 12,
   "id": "d24adaa7",
   "metadata": {},
   "outputs": [
    {
     "data": {
      "image/png": "[encoded data removed]",
      "text/latex": [
       "$\\displaystyle \\cos{\\left(\\mathbf{{y}_{N}} \\right)} - \\frac{8 \\mathbf{{y}_{N}}}{\\mathbf{{x}_{N}}^{3}}$"
      ],
      "text/plain": [
       "           8⋅y_N\n",
       "cos(y_N) - ─────\n",
       "              3 \n",
       "           x_N  "
      ]
     },
     "metadata": {},
     "output_type": "display_data"
    }
   ],
   "source": [
    "G = (4*N.y/N.x**2)*N.i + sy.sin(N.y)*N.j + 3*N.k\n",
    "div_G = delop.dot(G).doit()\n",
    "display(div_G)"
   ]
  },
  {
   "cell_type": "markdown",
   "id": "4294d640",
   "metadata": {},
   "source": [
    "c. $G=e^{x} \\boldsymbol{i}+\\ln (x y) \\boldsymbol{j}+e^{x y z} \\boldsymbol{k}$"
   ]
  },
  {
   "cell_type": "code",
   "execution_count": 13,
   "id": "e68ec661",
   "metadata": {},
   "outputs": [
    {
     "data": {
      "image/png": "[encoded data removed]",
      "text/latex": [
       "$\\displaystyle x y e^{x y z} + e^{x} + \\frac{1}{y}$"
      ],
      "text/plain": [
       "     x⋅y⋅z    x   1\n",
       "x⋅y⋅ℯ      + ℯ  + ─\n",
       "                  y"
      ]
     },
     "metadata": {},
     "output_type": "display_data"
    }
   ],
   "source": [
    "x, y, z = sy.symbols('x y z')\n",
    "G = sy.exp(x)*N.i + sy.ln(x*y)*N.j + sy.exp(x*y*z)*N.k\n",
    "div_G = sy.diff(G.components[N.i], x) + sy.diff(G.components[N.j], y) + sy.diff(G.components[N.k], z)\n",
    "display(div_G)"
   ]
  },
  {
   "cell_type": "markdown",
   "id": "8df9cd07",
   "metadata": {},
   "source": [
    "### Question 9\n",
    "Calculate the curl of the following vector fields of $F(x, y, z)$;\n",
    "\n",
    "a. $F=3 x^{2} \\boldsymbol{i}+2 z \\boldsymbol{j}-x \\boldsymbol{k}$ "
   ]
  },
  {
   "cell_type": "code",
   "execution_count": 14,
   "id": "61523fee",
   "metadata": {},
   "outputs": [
    {
     "data": {
      "image/png": "[encoded data removed]",
      "text/latex": [
       "$\\displaystyle \\left(-2\\right)\\mathbf{\\hat{i}_{N}} + \\mathbf{\\hat{j}_{N}}$"
      ],
      "text/plain": [
       "(-2) i_N + j_N"
      ]
     },
     "metadata": {},
     "output_type": "display_data"
    }
   ],
   "source": [
    "F = 3*N.x**2*N.i + 2*N.z*N.j - N.x*N.k\n",
    "curl_F = delop.cross(F).doit()\n",
    "display(curl_F)"
   ]
  },
  {
   "cell_type": "markdown",
   "id": "a98f053b",
   "metadata": {},
   "source": [
    "b. $F=y^{3} \\boldsymbol{i}+x y \\boldsymbol{j}-z \\boldsymbol{k}$ "
   ]
  },
  {
   "cell_type": "code",
   "execution_count": 15,
   "id": "23e7a8cc",
   "metadata": {},
   "outputs": [
    {
     "data": {
      "image/png": "[encoded data removed]",
      "text/latex": [
       "$\\displaystyle \\left(- 3 \\mathbf{{y}_{N}}^{2} + \\mathbf{{y}_{N}}\\right)\\mathbf{\\hat{k}_{N}}$"
      ],
      "text/plain": [
       "⎛       2      ⎞     \n",
       "⎝- 3⋅y_N  + y_N⎠ k_N "
      ]
     },
     "metadata": {},
     "output_type": "display_data"
    }
   ],
   "source": [
    "F = N.y**3*N.i + N.x*N.y*N.j - N.z*N.k\n",
    "curl_F = delop.cross(F).doit()\n",
    "display(curl_F)"
   ]
  },
  {
   "cell_type": "markdown",
   "id": "877b5ecb",
   "metadata": {},
   "source": [
    "с. $F=\\left(1+y+z^{2}\\right) \\boldsymbol{i}+\\left(e^{x y z}\\right) \\boldsymbol{j}-(x y z) \\boldsymbol{k}$"
   ]
  },
  {
   "cell_type": "code",
   "execution_count": 16,
   "id": "96af3686",
   "metadata": {},
   "outputs": [
    {
     "data": {
      "image/png": "[encoded data removed]",
      "text/latex": [
       "$\\displaystyle \\mathbf{\\hat{0}}$"
      ],
      "text/plain": [
       "0"
      ]
     },
     "metadata": {},
     "output_type": "display_data"
    }
   ],
   "source": [
    "x, y, z = sy.symbols('x y z')\n",
    "F = (1+y+z**2)*N.i + sy.exp(x*y*z)*N.j - (x*y*z)*N.k\n",
    "curl_F = delop.cross(F).doit()\n",
    "display(curl_F)"
   ]
  }
 ],
 "metadata": {
  "kernelspec": {
   "display_name": "Python 3",
   "language": "python",
   "name": "python3"
  },
  "language_info": {
   "codemirror_mode": {
    "name": "ipython",
    "version": 3
   },
   "file_extension": ".py",
   "mimetype": "text/x-python",
   "name": "python",
   "nbconvert_exporter": "python",
   "pygments_lexer": "ipython3",
   "version": "3.12.1"
  }
 },
 "nbformat": 4,
 "nbformat_minor": 5
}
